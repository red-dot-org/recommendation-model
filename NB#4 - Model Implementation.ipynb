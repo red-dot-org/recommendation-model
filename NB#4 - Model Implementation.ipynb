{
 "cells": [
  {
   "cell_type": "markdown",
   "metadata": {},
   "source": [
    "## Implementação do modelo Selecionado"
   ]
  },
  {
   "cell_type": "code",
   "execution_count": 12,
   "metadata": {},
   "outputs": [],
   "source": [
    "import collections\n",
    "import numpy as np\n",
    "import pandas as pd\n",
    "import pickle\n",
    "import difflib\n",
    "import random\n",
    "from plotly.offline import iplot\n",
    "from surprise import SVD, KNNBasic, CoClustering\n",
    "from surprise import Dataset\n",
    "from surprise import Reader\n",
    "from surprise.accuracy import rmse\n",
    "from surprise import accuracy\n",
    "from surprise.model_selection import GridSearchCV\n",
    "from surprise.model_selection import cross_validate\n",
    "from surprise.model_selection import train_test_split\n",
    "from surprise import Dataset\n",
    "from surprise import Reader"
   ]
  },
  {
   "cell_type": "markdown",
   "metadata": {},
   "source": [
    "Carregando dados e o modelo escolhido "
   ]
  },
  {
   "cell_type": "code",
   "execution_count": 2,
   "metadata": {},
   "outputs": [],
   "source": [
    "ratings_df = pd.read_csv(\"ratings.csv\")\n",
    "ratings_df =  ratings_df.drop(['timestamp'], axis=1)\n",
    "movies = pd.read_csv(\"movies.csv\",encoding=\"Latin1\")\n",
    "\n",
    "reader = Reader(rating_scale=(1, 5))\n",
    "data = Dataset.load_from_df(ratings_df[['userId', 'movieId', 'rating']], reader)"
   ]
  },
  {
   "cell_type": "code",
   "execution_count": 16,
   "metadata": {},
   "outputs": [
    {
     "data": {
      "text/plain": [
       "<surprise.prediction_algorithms.matrix_factorization.SVD at 0x11b0d48e0>"
      ]
     },
     "execution_count": 16,
     "metadata": {},
     "output_type": "execute_result"
    }
   ],
   "source": [
    "model = pickle.load( open( \"model_selected.p\", \"rb\" ) )\n",
    "model"
   ]
  },
  {
   "cell_type": "markdown",
   "metadata": {},
   "source": [
    "Avaliação Modelo"
   ]
  },
  {
   "cell_type": "code",
   "execution_count": 18,
   "metadata": {},
   "outputs": [
    {
     "name": "stdout",
     "output_type": "stream",
     "text": [
      "RMSE: 0.8598\n",
      "0.8597919487647819\n",
      "MAE:  0.6616\n",
      "0.6615936463895931\n"
     ]
    }
   ],
   "source": [
    "trainset, testset = train_test_split(data, test_size=.25)\n",
    "model.fit(trainset)\n",
    "predictions = model.test(testset)\n",
    "\n",
    "print(accuracy.rmse(predictions))\n",
    "print(accuracy.mae(predictions))"
   ]
  },
  {
   "cell_type": "markdown",
   "metadata": {},
   "source": [
    "Criando algorítmo para recomendação"
   ]
  },
  {
   "cell_type": "code",
   "execution_count": 43,
   "metadata": {},
   "outputs": [],
   "source": [
    "\n",
    "def get_movie_id(movie_title):\n",
    "    \n",
    "    \"\"\"\n",
    "    Gets the book ID for a book title based on the closest match in the metadata dataframe.\n",
    "    \"\"\"\n",
    "    \n",
    "    existing_titles = list(movies['title'].values)\n",
    "    closest_titles = difflib.get_close_matches(movie_title, existing_titles)\n",
    "    movie_id = movies[movies['title'] == closest_titles[0]]['movieId'].values[0]\n",
    "    return movie_id\n",
    "\n",
    "def get_movie_info(movie_id):\n",
    "    movie_info = movies[movies['movieId'] == movie_id]\n",
    "    return movie_info.to_dict(orient='records')\n",
    "\n",
    "def predict_review(user_id, movie_title, model):\n",
    "    \n",
    "    movie_id = get_movie_id(movie_title)\n",
    "    review_prediction = model.predict(uid=user_id, iid=movie_id)\n",
    "    return review_prediction.est\n",
    "\n",
    "def generate_recommendation(user_id, model,movies, thresh=3.7):\n",
    "\n",
    "    # top_25 = ratings_df['movieId'].value_counts()[:25].index.tolist()\n",
    "\n",
    "    # movie_list = movies[movies['movieId'].isin(top_25)].reset_index(drop=True)\n",
    "    # review_movies(movie_list)\n",
    "\n",
    "    movies = list(movies['title'].values)\n",
    "    random.shuffle(movies)\n",
    "    \n",
    "    for movie_title in movies:\n",
    "        rating = predict_review(user_id, movie_title, model)\n",
    "        if rating >= thresh:\n",
    "            movie_id = get_movie_id(movie_title)\n",
    "            return get_movie_info(movie_id)\n"
   ]
  },
  {
   "cell_type": "code",
   "execution_count": 44,
   "metadata": {},
   "outputs": [],
   "source": [
    "def review_movies(movie_list, id):\n",
    "    movies = movie_list\n",
    "    reviews = pd.DataFrame([], columns=['userId', 'movieId', 'rating'])\n",
    "    for i in range(10):\n",
    "        movie_index = random.randint(0, len(movies))\n",
    "        rating = input('Nota Filme ' + movies.loc[[movie_index]]['title'].values[0] + ' (0 a 5)')\n",
    "        print('Nota Filme ', movies.loc[[movie_index]]['title'].values[0], ' (0 a 5)',  rating)\n",
    "        \n",
    "        if(rating == ''):\n",
    "            rating = None\n",
    "        else:\n",
    "            rating = float(rating)\n",
    "            \n",
    "        user_array = [id, movies.loc[[movie_index]]['movieId'].values[0], rating ]\n",
    "        user_df = pd.DataFrame([user_array], columns=['userId', 'movieId', 'rating'])\n",
    "        reviews = reviews.append(user_df, ignore_index=True)\n",
    "        movies = movies.drop(movie_index).reset_index(drop=True)\n",
    "    return reviews"
   ]
  },
  {
   "cell_type": "code",
   "execution_count": 45,
   "metadata": {},
   "outputs": [],
   "source": [
    "def new_user(data, model):\n",
    "    top_25 = data['movieId'].value_counts()[:100].index.tolist()\n",
    "    movie_list = movies[movies['movieId'].isin(top_25)].reset_index(drop=True)\n",
    "    id = data['userId'].values[-1]+1\n",
    "    ratings = review_movies(movie_list,id )\n",
    "    data=data.append(ratings, ignore_index = True)\n",
    "    reader = Reader(rating_scale=(1, 5))\n",
    "    data_ds = Dataset.load_from_df(data[['userId', 'movieId', 'rating']], reader)\n",
    "    model.fit(data_ds.build_full_trainset())\n",
    "    return id\n"
   ]
  },
  {
   "cell_type": "markdown",
   "metadata": {},
   "source": [
    "Exemplo de uso"
   ]
  },
  {
   "cell_type": "code",
   "execution_count": 48,
   "metadata": {},
   "outputs": [
    {
     "name": "stdout",
     "output_type": "stream",
     "text": [
      "Nota Filme  Die Hard (1988)  (0 a 5) 3\n",
      "Nota Filme  Terminator 2: Judgment Day (1991)  (0 a 5) 4\n",
      "Nota Filme  Lord of the Rings: The Return of the King, The (2003)  (0 a 5) 5\n",
      "Nota Filme  Pirates of the Caribbean: The Curse of the Black Pearl (2003)  (0 a 5) 3\n",
      "Nota Filme  Breakfast Club, The (1985)  (0 a 5) 4\n",
      "Nota Filme  Spider-Man (2002)  (0 a 5) 5\n",
      "Nota Filme  Batman Begins (2005)  (0 a 5) 1\n",
      "Nota Filme  Ace Ventura: Pet Detective (1994)  (0 a 5) 4\n",
      "Nota Filme  Princess Bride, The (1987)  (0 a 5) 5\n",
      "Nota Filme  Apollo 13 (1995)  (0 a 5) 4\n"
     ]
    },
    {
     "data": {
      "text/plain": [
       "[{'movieId': 47640, 'title': 'Beerfest (2006)', 'genres': 'Comedy'}]"
      ]
     },
     "execution_count": 48,
     "metadata": {},
     "output_type": "execute_result"
    }
   ],
   "source": [
    "new_user_id = new_user(ratings_df, model)\n",
    "generate_recommendation(new_user_id, model, movies, 3.5)\n"
   ]
  }
 ],
 "metadata": {
  "interpreter": {
   "hash": "ac2eaa0ea0ebeafcc7822e65e46aa9d4f966f30b695406963e145ea4a91cd4fc"
  },
  "kernelspec": {
   "display_name": "Python 3.9.5 64-bit ('python@3.9')",
   "name": "python3"
  },
  "language_info": {
   "name": "python",
   "version": ""
  },
  "orig_nbformat": 4
 },
 "nbformat": 4,
 "nbformat_minor": 2
}