{
 "cells": [
  {
   "cell_type": "code",
   "execution_count": 1,
   "metadata": {},
   "outputs": [],
   "source": [
    "import matplotlib.pyplot as plt\n",
    "import numpy as np\n",
    "import pandas as pd\n",
    "import pickle\n",
    "import plotly.express as px\n",
    "import plotly.figure_factory as ff\n",
    "import seaborn as sns\n",
    "from plotly.offline import iplot\n",
    "from scipy import stats\n",
    "from sklearn.cluster import KMeans\n",
    "from sklearn.decomposition import PCA\n",
    "from sklearn.preprocessing import StandardScaler, MultiLabelBinarizer, MinMaxScaler"
   ]
  },
  {
   "cell_type": "code",
   "execution_count": 2,
   "metadata": {},
   "outputs": [],
   "source": [
    "infile = open('rating_movies_clean','rb')\n",
    "df_sample = pickle.load(infile)\n",
    "infile.close()"
   ]
  },
  {
   "cell_type": "code",
   "execution_count": 3,
   "metadata": {
    "scrolled": true
   },
   "outputs": [
    {
     "data": {
      "text/html": [
       "<div>\n",
       "<style scoped>\n",
       "    .dataframe tbody tr th:only-of-type {\n",
       "        vertical-align: middle;\n",
       "    }\n",
       "\n",
       "    .dataframe tbody tr th {\n",
       "        vertical-align: top;\n",
       "    }\n",
       "\n",
       "    .dataframe thead th {\n",
       "        text-align: right;\n",
       "    }\n",
       "</style>\n",
       "<table border=\"1\" class=\"dataframe\">\n",
       "  <thead>\n",
       "    <tr style=\"text-align: right;\">\n",
       "      <th></th>\n",
       "      <th>(no genres listed)</th>\n",
       "      <th>Action</th>\n",
       "      <th>Adventure</th>\n",
       "      <th>Animation</th>\n",
       "      <th>Children</th>\n",
       "      <th>Comedy</th>\n",
       "      <th>Crime</th>\n",
       "      <th>Documentary</th>\n",
       "      <th>Drama</th>\n",
       "      <th>Fantasy</th>\n",
       "      <th>...</th>\n",
       "      <th>Horror</th>\n",
       "      <th>IMAX</th>\n",
       "      <th>Musical</th>\n",
       "      <th>Mystery</th>\n",
       "      <th>Romance</th>\n",
       "      <th>Sci-Fi</th>\n",
       "      <th>Thriller</th>\n",
       "      <th>War</th>\n",
       "      <th>Western</th>\n",
       "      <th>rating</th>\n",
       "    </tr>\n",
       "  </thead>\n",
       "  <tbody>\n",
       "    <tr>\n",
       "      <th>15347762</th>\n",
       "      <td>0</td>\n",
       "      <td>1</td>\n",
       "      <td>1</td>\n",
       "      <td>0</td>\n",
       "      <td>0</td>\n",
       "      <td>0</td>\n",
       "      <td>0</td>\n",
       "      <td>0</td>\n",
       "      <td>0</td>\n",
       "      <td>0</td>\n",
       "      <td>...</td>\n",
       "      <td>0</td>\n",
       "      <td>0</td>\n",
       "      <td>0</td>\n",
       "      <td>0</td>\n",
       "      <td>0</td>\n",
       "      <td>0</td>\n",
       "      <td>0</td>\n",
       "      <td>0</td>\n",
       "      <td>0</td>\n",
       "      <td>3.0</td>\n",
       "    </tr>\n",
       "    <tr>\n",
       "      <th>16647840</th>\n",
       "      <td>0</td>\n",
       "      <td>0</td>\n",
       "      <td>0</td>\n",
       "      <td>0</td>\n",
       "      <td>0</td>\n",
       "      <td>1</td>\n",
       "      <td>0</td>\n",
       "      <td>0</td>\n",
       "      <td>0</td>\n",
       "      <td>0</td>\n",
       "      <td>...</td>\n",
       "      <td>0</td>\n",
       "      <td>0</td>\n",
       "      <td>0</td>\n",
       "      <td>0</td>\n",
       "      <td>1</td>\n",
       "      <td>0</td>\n",
       "      <td>0</td>\n",
       "      <td>0</td>\n",
       "      <td>0</td>\n",
       "      <td>4.5</td>\n",
       "    </tr>\n",
       "    <tr>\n",
       "      <th>23915192</th>\n",
       "      <td>0</td>\n",
       "      <td>1</td>\n",
       "      <td>0</td>\n",
       "      <td>0</td>\n",
       "      <td>0</td>\n",
       "      <td>0</td>\n",
       "      <td>0</td>\n",
       "      <td>0</td>\n",
       "      <td>0</td>\n",
       "      <td>0</td>\n",
       "      <td>...</td>\n",
       "      <td>0</td>\n",
       "      <td>0</td>\n",
       "      <td>0</td>\n",
       "      <td>0</td>\n",
       "      <td>0</td>\n",
       "      <td>0</td>\n",
       "      <td>1</td>\n",
       "      <td>0</td>\n",
       "      <td>0</td>\n",
       "      <td>4.0</td>\n",
       "    </tr>\n",
       "    <tr>\n",
       "      <th>10052313</th>\n",
       "      <td>0</td>\n",
       "      <td>1</td>\n",
       "      <td>1</td>\n",
       "      <td>0</td>\n",
       "      <td>0</td>\n",
       "      <td>0</td>\n",
       "      <td>0</td>\n",
       "      <td>0</td>\n",
       "      <td>0</td>\n",
       "      <td>0</td>\n",
       "      <td>...</td>\n",
       "      <td>0</td>\n",
       "      <td>0</td>\n",
       "      <td>0</td>\n",
       "      <td>0</td>\n",
       "      <td>0</td>\n",
       "      <td>1</td>\n",
       "      <td>0</td>\n",
       "      <td>0</td>\n",
       "      <td>0</td>\n",
       "      <td>2.0</td>\n",
       "    </tr>\n",
       "    <tr>\n",
       "      <th>12214125</th>\n",
       "      <td>0</td>\n",
       "      <td>0</td>\n",
       "      <td>0</td>\n",
       "      <td>0</td>\n",
       "      <td>0</td>\n",
       "      <td>0</td>\n",
       "      <td>0</td>\n",
       "      <td>0</td>\n",
       "      <td>1</td>\n",
       "      <td>0</td>\n",
       "      <td>...</td>\n",
       "      <td>0</td>\n",
       "      <td>0</td>\n",
       "      <td>0</td>\n",
       "      <td>1</td>\n",
       "      <td>1</td>\n",
       "      <td>0</td>\n",
       "      <td>1</td>\n",
       "      <td>0</td>\n",
       "      <td>0</td>\n",
       "      <td>4.0</td>\n",
       "    </tr>\n",
       "  </tbody>\n",
       "</table>\n",
       "<p>5 rows × 21 columns</p>\n",
       "</div>"
      ],
      "text/plain": [
       "          (no genres listed)  Action  Adventure  Animation  Children  Comedy  \\\n",
       "15347762                   0       1          1          0         0       0   \n",
       "16647840                   0       0          0          0         0       1   \n",
       "23915192                   0       1          0          0         0       0   \n",
       "10052313                   0       1          1          0         0       0   \n",
       "12214125                   0       0          0          0         0       0   \n",
       "\n",
       "          Crime  Documentary  Drama  Fantasy  ...  Horror  IMAX  Musical  \\\n",
       "15347762      0            0      0        0  ...       0     0        0   \n",
       "16647840      0            0      0        0  ...       0     0        0   \n",
       "23915192      0            0      0        0  ...       0     0        0   \n",
       "10052313      0            0      0        0  ...       0     0        0   \n",
       "12214125      0            0      1        0  ...       0     0        0   \n",
       "\n",
       "          Mystery  Romance  Sci-Fi  Thriller  War  Western  rating  \n",
       "15347762        0        0       0         0    0        0     3.0  \n",
       "16647840        0        1       0         0    0        0     4.5  \n",
       "23915192        0        0       0         1    0        0     4.0  \n",
       "10052313        0        0       1         0    0        0     2.0  \n",
       "12214125        1        1       0         1    0        0     4.0  \n",
       "\n",
       "[5 rows x 21 columns]"
      ]
     },
     "execution_count": 3,
     "metadata": {},
     "output_type": "execute_result"
    }
   ],
   "source": [
    "df_droped = df_sample.drop(['movieId', 'title','genres_splited', 'genres', 'timestamp', 'userId'], axis=1)\n",
    "df_droped.head()"
   ]
  },
  {
   "cell_type": "code",
   "execution_count": 4,
   "metadata": {
    "scrolled": true
   },
   "outputs": [
    {
     "data": {
      "image/png": "[encoded data removed]",
      "text/plain": [
       "<Figure size 432x288 with 1 Axes>"
      ]
     },
     "metadata": {
      "needs_background": "light"
     },
     "output_type": "display_data"
    }
   ],
   "source": [
    "x = df_droped.values\n",
    "\n",
    "pca = PCA()\n",
    "pca.fit_transform(x)\n",
    "var = pca.explained_variance_ratio_.cumsum()\n",
    "num_pca= range(1,len(var)+1)\n",
    "elbow_plot = pd.DataFrame({'num_pca':num_pca , 'variance': var})\n",
    "sns.lineplot(x='num_pca', y='variance', data = elbow_plot)\n",
    "plt.xticks(num_pca)\n",
    "plt.show()\n"
   ]
  },
  {
   "cell_type": "code",
   "execution_count": 6,
   "metadata": {},
   "outputs": [
    {
     "data": {
      "text/html": [
       "<div>\n",
       "<style scoped>\n",
       "    .dataframe tbody tr th:only-of-type {\n",
       "        vertical-align: middle;\n",
       "    }\n",
       "\n",
       "    .dataframe tbody tr th {\n",
       "        vertical-align: top;\n",
       "    }\n",
       "\n",
       "    .dataframe thead th {\n",
       "        text-align: right;\n",
       "    }\n",
       "</style>\n",
       "<table border=\"1\" class=\"dataframe\">\n",
       "  <thead>\n",
       "    <tr style=\"text-align: right;\">\n",
       "      <th></th>\n",
       "      <th>PCA1</th>\n",
       "      <th>PCA2</th>\n",
       "      <th>PCA3</th>\n",
       "      <th>PCA4</th>\n",
       "      <th>PCA5</th>\n",
       "      <th>PCA6</th>\n",
       "      <th>PCA7</th>\n",
       "    </tr>\n",
       "  </thead>\n",
       "  <tbody>\n",
       "    <tr>\n",
       "      <th>0</th>\n",
       "      <td>0.578225</td>\n",
       "      <td>0.744604</td>\n",
       "      <td>0.461401</td>\n",
       "      <td>-0.454664</td>\n",
       "      <td>-0.139681</td>\n",
       "      <td>0.321402</td>\n",
       "      <td>0.019063</td>\n",
       "    </tr>\n",
       "    <tr>\n",
       "      <th>1</th>\n",
       "      <td>-0.903736</td>\n",
       "      <td>-0.743256</td>\n",
       "      <td>0.627504</td>\n",
       "      <td>0.463699</td>\n",
       "      <td>-0.480282</td>\n",
       "      <td>-0.288950</td>\n",
       "      <td>0.403518</td>\n",
       "    </tr>\n",
       "    <tr>\n",
       "      <th>2</th>\n",
       "      <td>-0.427739</td>\n",
       "      <td>0.868706</td>\n",
       "      <td>-0.141581</td>\n",
       "      <td>0.423313</td>\n",
       "      <td>-0.134765</td>\n",
       "      <td>-0.075413</td>\n",
       "      <td>0.234109</td>\n",
       "    </tr>\n",
       "    <tr>\n",
       "      <th>3</th>\n",
       "      <td>1.584851</td>\n",
       "      <td>1.043625</td>\n",
       "      <td>0.467985</td>\n",
       "      <td>-0.627631</td>\n",
       "      <td>-0.390120</td>\n",
       "      <td>-0.062064</td>\n",
       "      <td>-0.274151</td>\n",
       "    </tr>\n",
       "    <tr>\n",
       "      <th>4</th>\n",
       "      <td>-0.543946</td>\n",
       "      <td>-0.185214</td>\n",
       "      <td>-0.912881</td>\n",
       "      <td>0.105860</td>\n",
       "      <td>0.023213</td>\n",
       "      <td>-0.548831</td>\n",
       "      <td>0.952132</td>\n",
       "    </tr>\n",
       "    <tr>\n",
       "      <th>...</th>\n",
       "      <td>...</td>\n",
       "      <td>...</td>\n",
       "      <td>...</td>\n",
       "      <td>...</td>\n",
       "      <td>...</td>\n",
       "      <td>...</td>\n",
       "      <td>...</td>\n",
       "    </tr>\n",
       "    <tr>\n",
       "      <th>499995</th>\n",
       "      <td>-0.530176</td>\n",
       "      <td>0.024640</td>\n",
       "      <td>-0.825827</td>\n",
       "      <td>0.020893</td>\n",
       "      <td>0.242679</td>\n",
       "      <td>-0.207693</td>\n",
       "      <td>0.086724</td>\n",
       "    </tr>\n",
       "    <tr>\n",
       "      <th>499996</th>\n",
       "      <td>-0.532587</td>\n",
       "      <td>-0.647943</td>\n",
       "      <td>-0.479099</td>\n",
       "      <td>-0.441491</td>\n",
       "      <td>-0.332684</td>\n",
       "      <td>-0.250949</td>\n",
       "      <td>0.465497</td>\n",
       "    </tr>\n",
       "    <tr>\n",
       "      <th>499997</th>\n",
       "      <td>-0.980010</td>\n",
       "      <td>-0.760918</td>\n",
       "      <td>0.005154</td>\n",
       "      <td>0.044849</td>\n",
       "      <td>-0.189430</td>\n",
       "      <td>0.174963</td>\n",
       "      <td>-0.379074</td>\n",
       "    </tr>\n",
       "    <tr>\n",
       "      <th>499998</th>\n",
       "      <td>-0.544239</td>\n",
       "      <td>-0.393932</td>\n",
       "      <td>-0.551905</td>\n",
       "      <td>-0.482197</td>\n",
       "      <td>-0.031771</td>\n",
       "      <td>0.008097</td>\n",
       "      <td>-0.319985</td>\n",
       "    </tr>\n",
       "    <tr>\n",
       "      <th>499999</th>\n",
       "      <td>-1.446418</td>\n",
       "      <td>0.337550</td>\n",
       "      <td>-0.144373</td>\n",
       "      <td>0.522006</td>\n",
       "      <td>0.330525</td>\n",
       "      <td>-0.491438</td>\n",
       "      <td>0.100416</td>\n",
       "    </tr>\n",
       "  </tbody>\n",
       "</table>\n",
       "<p>500000 rows × 7 columns</p>\n",
       "</div>"
      ],
      "text/plain": [
       "            PCA1      PCA2      PCA3      PCA4      PCA5      PCA6      PCA7\n",
       "0       0.578225  0.744604  0.461401 -0.454664 -0.139681  0.321402  0.019063\n",
       "1      -0.903736 -0.743256  0.627504  0.463699 -0.480282 -0.288950  0.403518\n",
       "2      -0.427739  0.868706 -0.141581  0.423313 -0.134765 -0.075413  0.234109\n",
       "3       1.584851  1.043625  0.467985 -0.627631 -0.390120 -0.062064 -0.274151\n",
       "4      -0.543946 -0.185214 -0.912881  0.105860  0.023213 -0.548831  0.952132\n",
       "...          ...       ...       ...       ...       ...       ...       ...\n",
       "499995 -0.530176  0.024640 -0.825827  0.020893  0.242679 -0.207693  0.086724\n",
       "499996 -0.532587 -0.647943 -0.479099 -0.441491 -0.332684 -0.250949  0.465497\n",
       "499997 -0.980010 -0.760918  0.005154  0.044849 -0.189430  0.174963 -0.379074\n",
       "499998 -0.544239 -0.393932 -0.551905 -0.482197 -0.031771  0.008097 -0.319985\n",
       "499999 -1.446418  0.337550 -0.144373  0.522006  0.330525 -0.491438  0.100416\n",
       "\n",
       "[500000 rows x 7 columns]"
      ]
     },
     "execution_count": 6,
     "metadata": {},
     "output_type": "execute_result"
    }
   ],
   "source": [
    "x = df_droped.values\n",
    "pca = PCA(n_components= 7)\n",
    "pca.fit_transform(x)\n",
    "principalComponents = pca.fit_transform(x)\n",
    "principalDf = pd.DataFrame(data = principalComponents\n",
    "             , columns = ['PCA1','PCA2','PCA3','PCA4','PCA5','PCA6','PCA7'])\n",
    "principalDf"
   ]
  },
  {
   "cell_type": "code",
   "execution_count": 8,
   "metadata": {},
   "outputs": [
    {
     "data": {
      "image/png": "[encoded data removed]",
      "text/plain": [
       "<Figure size 432x288 with 1 Axes>"
      ]
     },
     "metadata": {
      "needs_background": "light"
     },
     "output_type": "display_data"
    }
   ],
   "source": [
    "distortions = []\n",
    "num_clusters =  range(1,20)\n",
    "\n",
    "\n",
    "for n in num_clusters:\n",
    "    kmeans = KMeans(n_clusters=n, random_state=0)\n",
    "    kmeans.fit(principalDf)\n",
    "    distortions.append(kmeans.inertia_)\n",
    "    \n",
    "elbow_plot = pd.DataFrame({'num_clusters': num_clusters, 'distortions': distortions})\n",
    "sns.lineplot(x='num_clusters', y='distortions', data = elbow_plot)\n",
    "plt.xticks(num_clusters)\n",
    "plt.show()"
   ]
  },
  {
   "cell_type": "code",
   "execution_count": 9,
   "metadata": {},
   "outputs": [
    {
     "data": {
      "text/plain": [
       "array([2, 0, 2, ..., 4, 3, 4])"
      ]
     },
     "execution_count": 9,
     "metadata": {},
     "output_type": "execute_result"
    }
   ],
   "source": [
    "kmeans = KMeans(n_clusters=5, random_state=0).fit(principalDf)\n",
    "cluster_pred = kmeans.predict(principalDf)\n",
    "cluster_pred"
   ]
  },
  {
   "cell_type": "code",
   "execution_count": 17,
   "metadata": {
    "scrolled": true
   },
   "outputs": [
    {
     "data": {
      "text/plain": [
       "<matplotlib.collections.PathCollection at 0x2a2a3efe880>"
      ]
     },
     "execution_count": 17,
     "metadata": {},
     "output_type": "execute_result"
    },
    {
     "data": {
      "image/png": "[encoded data removed]",
      "text/plain": [
       "<Figure size 432x288 with 1 Axes>"
      ]
     },
     "metadata": {
      "needs_background": "light"
     },
     "output_type": "display_data"
    }
   ],
   "source": [
    "plt.scatter(principalDf['PCA1'], principalDf['PCA2'], c=cluster_pred)\n",
    "plt.scatter(kmeans.cluster_centers_[:, 0], kmeans.cluster_centers_[:, 1], s=300, c='red', label = 'Centroids')"
   ]
  }
 ],
 "metadata": {
  "kernelspec": {
   "display_name": "Python 3",
   "language": "python",
   "name": "python3"
  },
  "language_info": {
   "codemirror_mode": {
    "name": "ipython",
    "version": 3
   },
   "file_extension": ".py",
   "mimetype": "text/x-python",
   "name": "python",
   "nbconvert_exporter": "python",
   "pygments_lexer": "ipython3",
   "version": "3.8.3"
  }
 },
 "nbformat": 4,
 "nbformat_minor": 4
}
