{
 "cells": [
  {
   "cell_type": "code",
   "execution_count": null,
   "metadata": {},
   "outputs": [],
   "source": [
    "import random\n",
    "\n",
    "userid_df = df_sample.groupby(by='userId', as_index=False).agg({'movieId': pd.Series.nunique})\n",
    "\n",
    "userA = random.choice(userid_df.nlargest(40, 'movieId').userId.unique())\n",
    "userA_row = df_sample[df_sample['userId'] == userA]\n",
    "userB = random.choice(userid_df.nlargest(40, 'movieId').userId.unique())\n",
    "userB_row = df_sample[df_sample['userId'] == userB]\n",
    "userC = random.choice(userid_df.nlargest(40, 'movieId').userId.unique())\n",
    "userC_row = df_sample[df_sample['userId'] == userC]\n",
    "frames = [userA_row, userB_row, userC_row]\n",
    "users_df = pd.concat(frames)\n",
    "users_df[\"userId\"].replace({userA: \"A\", userB: \"B\", userC: \"C\"}, inplace=True)"
   ]
  },
  {
   "cell_type": "code",
   "execution_count": null,
   "metadata": {},
   "outputs": [],
   "source": [
    "import plotly.graph_objects as go\n",
    "\n",
    "fig = px.scatter(x=users_df['genres'], y=users_df['rating'],labels={'x':'', 'y':'Ratings', 'color':'User'}, color=users_df['userId'])\n",
    "fig.show()"
   ]
  }
 ],
 "metadata": {
  "kernelspec": {
   "display_name": "Python 3",
   "language": "python",
   "name": "python3"
  },
  "language_info": {
   "codemirror_mode": {
    "name": "ipython",
    "version": 3
   },
   "file_extension": ".py",
   "mimetype": "text/x-python",
   "name": "python",
   "nbconvert_exporter": "python",
   "pygments_lexer": "ipython3",
   "version": "3.8.3"
  }
 },
 "nbformat": 4,
 "nbformat_minor": 4
}
