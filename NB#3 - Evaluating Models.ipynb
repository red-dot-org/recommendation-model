{
 "cells": [
  {
   "cell_type": "code",
   "execution_count": 1,
   "metadata": {},
   "outputs": [],
   "source": [
    "import collections\n",
    "import numpy as np\n",
    "import pandas as pd\n",
    "import pickle\n",
    "from plotly.offline import iplot\n",
    "from surprise import SVD, KNNBasic, CoClustering\n",
    "from surprise import Dataset\n",
    "from surprise import Reader\n",
    "from surprise.accuracy import rmse\n",
    "from surprise import accuracy\n",
    "from surprise.model_selection import GridSearchCV\n",
    "from surprise.model_selection import cross_validate\n",
    "from surprise import Dataset\n",
    "from surprise import Reader"
   ]
  },
  {
   "cell_type": "markdown",
   "metadata": {},
   "source": [
    "Nesse notebook foram aplicados 3 modelos de Machine learing usando Gridsearch para encontrar os melhores parametros e cross validation para realizar a comparação entre eles."
   ]
  },
  {
   "cell_type": "code",
   "execution_count": 2,
   "metadata": {},
   "outputs": [],
   "source": [
    "ratings_df = pd.read_csv(\"ratings.csv\")\n",
    "ratings_df =  ratings_df.drop(['timestamp'], axis=1)\n",
    "reader = Reader(rating_scale=(1, 5))\n",
    "data = Dataset.load_from_df(ratings_df[['userId', 'movieId', 'rating']], reader)"
   ]
  },
  {
   "cell_type": "code",
   "execution_count": 10,
   "metadata": {},
   "outputs": [
    {
     "name": "stdout",
     "output_type": "stream",
     "text": [
      "0.8700862573350433\n",
      "{'n_epochs': 30, 'lr_all': 0.005, 'reg_all': 0.06}\n",
      "{'split0_test_rmse': array([0.89049194, 0.89091118, 0.87831318, 0.87827227, 0.88757083,\n",
      "       0.8873722 , 0.87707724, 0.874464  , 0.88559662, 0.88477364,\n",
      "       0.87550712, 0.87271369]), 'split1_test_rmse': array([0.88997935, 0.88934081, 0.87865847, 0.87635611, 0.88632404,\n",
      "       0.88583647, 0.87509169, 0.87392765, 0.88359409, 0.88238605,\n",
      "       0.87579012, 0.87302009]), 'split2_test_rmse': array([0.88327115, 0.88269478, 0.86989188, 0.86973919, 0.87941506,\n",
      "       0.87901226, 0.86971451, 0.86713235, 0.87775134, 0.87697014,\n",
      "       0.86476521, 0.86452499]), 'mean_test_rmse': array([0.88791415, 0.88764892, 0.87562118, 0.87478919, 0.88443664,\n",
      "       0.88407365, 0.87396115, 0.87184133, 0.88231402, 0.88137661,\n",
      "       0.87202082, 0.87008626]), 'std_test_rmse': array([0.00328976, 0.00356129, 0.00405368, 0.00365557, 0.00358709,\n",
      "       0.00363344, 0.00311031, 0.00333695, 0.00332827, 0.00326475,\n",
      "       0.00513179, 0.0039344 ]), 'rank_test_rmse': array([12, 11,  6,  5, 10,  9,  4,  2,  8,  7,  3,  1]), 'mean_fit_time': array([3.89012329, 3.75038711, 3.73066394, 3.73428194, 4.7021114 ,\n",
      "       4.72290667, 4.67891335, 4.69707163, 5.56969865, 5.61911209,\n",
      "       5.67706076, 5.56927101]), 'std_fit_time': array([0.11508639, 0.08025924, 0.00562948, 0.00465573, 0.04243204,\n",
      "       0.0863692 , 0.02276945, 0.01586441, 0.00437225, 0.04586871,\n",
      "       0.03547412, 0.00671873]), 'mean_test_time': array([0.24086642, 0.27117729, 0.23072139, 0.26820103, 0.23752729,\n",
      "       0.27127147, 0.22565436, 0.26299381, 0.22234035, 0.27766927,\n",
      "       0.23002625, 0.26163109]), 'std_test_time': array([0.05824875, 0.05654809, 0.0547813 , 0.05712826, 0.0631626 ,\n",
      "       0.0541302 , 0.05964848, 0.05540495, 0.05424596, 0.03656321,\n",
      "       0.05922092, 0.05355928]), 'params': [{'n_epochs': 20, 'lr_all': 0.002, 'reg_all': 0.04}, {'n_epochs': 20, 'lr_all': 0.002, 'reg_all': 0.06}, {'n_epochs': 20, 'lr_all': 0.005, 'reg_all': 0.04}, {'n_epochs': 20, 'lr_all': 0.005, 'reg_all': 0.06}, {'n_epochs': 25, 'lr_all': 0.002, 'reg_all': 0.04}, {'n_epochs': 25, 'lr_all': 0.002, 'reg_all': 0.06}, {'n_epochs': 25, 'lr_all': 0.005, 'reg_all': 0.04}, {'n_epochs': 25, 'lr_all': 0.005, 'reg_all': 0.06}, {'n_epochs': 30, 'lr_all': 0.002, 'reg_all': 0.04}, {'n_epochs': 30, 'lr_all': 0.002, 'reg_all': 0.06}, {'n_epochs': 30, 'lr_all': 0.005, 'reg_all': 0.04}, {'n_epochs': 30, 'lr_all': 0.005, 'reg_all': 0.06}], 'param_n_epochs': [20, 20, 20, 20, 25, 25, 25, 25, 30, 30, 30, 30], 'param_lr_all': [0.002, 0.002, 0.005, 0.005, 0.002, 0.002, 0.005, 0.005, 0.002, 0.002, 0.005, 0.005], 'param_reg_all': [0.04, 0.06, 0.04, 0.06, 0.04, 0.06, 0.04, 0.06, 0.04, 0.06, 0.04, 0.06]}\n"
     ]
    }
   ],
   "source": [
    "param_grid = {'n_epochs': [20, 25, 30],\n",
    "              'lr_all': [0.002, 0.005],\n",
    "              'reg_all': [0.04, 0.06]}\n",
    "gsSVD = GridSearchCV(SVD, param_grid, measures=['rmse'], cv=3)\n",
    "\n",
    "gsSVD.fit(data)\n",
    "\n",
    "print(gsSVD.best_score['rmse'])\n",
    "print(gsSVD.best_params['rmse'])\n",
    "print(gsSVD.cv_results)"
   ]
  },
  {
   "cell_type": "code",
   "execution_count": 11,
   "metadata": {},
   "outputs": [
    {
     "data": {
      "text/plain": [
       "<surprise.prediction_algorithms.matrix_factorization.SVD at 0x126f614f0>"
      ]
     },
     "execution_count": 11,
     "metadata": {},
     "output_type": "execute_result"
    }
   ],
   "source": [
    "svd = SVD(**gsSVD.best_params['rmse'])\n",
    "svd.fit(data.build_full_trainset())"
   ]
  },
  {
   "cell_type": "code",
   "execution_count": 5,
   "metadata": {},
   "outputs": [
    {
     "data": {
      "text/html": [
       "<div>\n",
       "<style scoped>\n",
       "    .dataframe tbody tr th:only-of-type {\n",
       "        vertical-align: middle;\n",
       "    }\n",
       "\n",
       "    .dataframe tbody tr th {\n",
       "        vertical-align: top;\n",
       "    }\n",
       "\n",
       "    .dataframe thead th {\n",
       "        text-align: right;\n",
       "    }\n",
       "</style>\n",
       "<table border=\"1\" class=\"dataframe\">\n",
       "  <thead>\n",
       "    <tr style=\"text-align: right;\">\n",
       "      <th></th>\n",
       "      <th>userId</th>\n",
       "      <th>movieId</th>\n",
       "      <th>rating</th>\n",
       "    </tr>\n",
       "  </thead>\n",
       "  <tbody>\n",
       "    <tr>\n",
       "      <th>0</th>\n",
       "      <td>1</td>\n",
       "      <td>1</td>\n",
       "      <td>4.0</td>\n",
       "    </tr>\n",
       "    <tr>\n",
       "      <th>1</th>\n",
       "      <td>1</td>\n",
       "      <td>3</td>\n",
       "      <td>4.0</td>\n",
       "    </tr>\n",
       "    <tr>\n",
       "      <th>2</th>\n",
       "      <td>1</td>\n",
       "      <td>6</td>\n",
       "      <td>4.0</td>\n",
       "    </tr>\n",
       "    <tr>\n",
       "      <th>3</th>\n",
       "      <td>1</td>\n",
       "      <td>47</td>\n",
       "      <td>5.0</td>\n",
       "    </tr>\n",
       "    <tr>\n",
       "      <th>4</th>\n",
       "      <td>1</td>\n",
       "      <td>50</td>\n",
       "      <td>5.0</td>\n",
       "    </tr>\n",
       "    <tr>\n",
       "      <th>...</th>\n",
       "      <td>...</td>\n",
       "      <td>...</td>\n",
       "      <td>...</td>\n",
       "    </tr>\n",
       "    <tr>\n",
       "      <th>100831</th>\n",
       "      <td>610</td>\n",
       "      <td>166534</td>\n",
       "      <td>4.0</td>\n",
       "    </tr>\n",
       "    <tr>\n",
       "      <th>100832</th>\n",
       "      <td>610</td>\n",
       "      <td>168248</td>\n",
       "      <td>5.0</td>\n",
       "    </tr>\n",
       "    <tr>\n",
       "      <th>100833</th>\n",
       "      <td>610</td>\n",
       "      <td>168250</td>\n",
       "      <td>5.0</td>\n",
       "    </tr>\n",
       "    <tr>\n",
       "      <th>100834</th>\n",
       "      <td>610</td>\n",
       "      <td>168252</td>\n",
       "      <td>5.0</td>\n",
       "    </tr>\n",
       "    <tr>\n",
       "      <th>100835</th>\n",
       "      <td>610</td>\n",
       "      <td>170875</td>\n",
       "      <td>3.0</td>\n",
       "    </tr>\n",
       "  </tbody>\n",
       "</table>\n",
       "<p>100836 rows × 3 columns</p>\n",
       "</div>"
      ],
      "text/plain": [
       "        userId  movieId  rating\n",
       "0            1        1     4.0\n",
       "1            1        3     4.0\n",
       "2            1        6     4.0\n",
       "3            1       47     5.0\n",
       "4            1       50     5.0\n",
       "...        ...      ...     ...\n",
       "100831     610   166534     4.0\n",
       "100832     610   168248     5.0\n",
       "100833     610   168250     5.0\n",
       "100834     610   168252     5.0\n",
       "100835     610   170875     3.0\n",
       "\n",
       "[100836 rows x 3 columns]"
      ]
     },
     "execution_count": 5,
     "metadata": {},
     "output_type": "execute_result"
    }
   ],
   "source": [
    "ratings_df"
   ]
  },
  {
   "cell_type": "code",
   "execution_count": 6,
   "metadata": {},
   "outputs": [
    {
     "name": "stdout",
     "output_type": "stream",
     "text": [
      "4.641159724372494\n"
     ]
    }
   ],
   "source": [
    "print(svd.predict(uid=1, iid=6).est)"
   ]
  },
  {
   "cell_type": "code",
   "execution_count": 3,
   "metadata": {},
   "outputs": [
    {
     "name": "stdout",
     "output_type": "stream",
     "text": [
      "0.9569779141167153\n",
      "{'n_epochs': 30, 'n_cltr_u': 5, 'n_cltr_i': 5}\n",
      "{'split0_test_rmse': array([0.95371413, 0.95972831, 0.96336149, 0.95886592, 0.96699358,\n",
      "       0.96838221, 0.9562673 , 0.97426108, 0.98420844, 0.95386088,\n",
      "       0.95666863, 0.95971086, 0.95720803, 0.9660221 , 0.9710521 ,\n",
      "       0.96540131, 0.97597559, 0.98513221, 0.95196727, 0.96217828,\n",
      "       0.95820385, 0.95818535, 0.96849792, 0.97146309, 0.96015388,\n",
      "       0.97769409, 0.98402454]), 'split1_test_rmse': array([0.96180924, 0.96508181, 0.97346058, 0.96559422, 0.97863194,\n",
      "       0.97730375, 0.97443162, 0.9880279 , 0.99328253, 0.96293257,\n",
      "       0.96847297, 0.97001948, 0.97062998, 0.97468139, 0.97686726,\n",
      "       0.96946052, 0.98893911, 0.99151348, 0.96296195, 0.96844199,\n",
      "       0.96707304, 0.9707514 , 0.97911265, 0.97876788, 0.9750185 ,\n",
      "       0.98928303, 0.99709467]), 'split2_test_rmse': array([0.95654592, 0.96055736, 0.9645307 , 0.95940637, 0.98020654,\n",
      "       0.97608871, 0.96961771, 0.97967898, 0.98472215, 0.96016503,\n",
      "       0.96129841, 0.97004531, 0.96557801, 0.97775907, 0.97502956,\n",
      "       0.96246157, 0.98359991, 0.98659742, 0.95600452, 0.96328494,\n",
      "       0.96627208, 0.96390871, 0.97208934, 0.98088216, 0.96487105,\n",
      "       0.98209168, 0.99229003]), 'mean_test_rmse': array([0.95735643, 0.96178916, 0.96711759, 0.96128884, 0.97527735,\n",
      "       0.97392489, 0.96677221, 0.98065599, 0.98740437, 0.95898616,\n",
      "       0.96214667, 0.96659188, 0.96447201, 0.97282085, 0.97431631,\n",
      "       0.96577447, 0.9828382 , 0.9877477 , 0.95697791, 0.96463507,\n",
      "       0.96384965, 0.96428182, 0.9732333 , 0.97703771, 0.96668114,\n",
      "       0.98302293, 0.99113641]), 'std_test_rmse': array([0.00335414, 0.00235273, 0.0045105 , 0.00305235, 0.00589268,\n",
      "       0.00395053, 0.00768368, 0.00566258, 0.00416177, 0.00379616,\n",
      "       0.00485629, 0.00486563, 0.00553502, 0.00496893, 0.00242701,\n",
      "       0.00286947, 0.00531967, 0.00272917, 0.00454103, 0.00272955,\n",
      "       0.00400556, 0.00513685, 0.0044083 , 0.00403525, 0.00620197,\n",
      "       0.00477677, 0.00539785]), 'rank_test_rmse': array([ 2,  5, 15,  4, 20, 18, 14, 22, 25,  3,  6, 12,  9, 16, 19, 11, 23,\n",
      "       26,  1, 10,  7,  8, 17, 21, 13, 24, 27]), 'mean_fit_time': array([2.17336718, 2.48557703, 2.74051491, 2.34075705, 2.70574029,\n",
      "       3.03907394, 3.44096255, 4.45474203, 4.08443324, 2.75712291,\n",
      "       2.72952803, 3.05831663, 2.84302394, 3.06925575, 3.27022322,\n",
      "       3.30499919, 3.55623245, 3.86003637, 2.56805865, 3.15757259,\n",
      "       3.44895768, 3.10142676, 3.457745  , 3.90067768, 3.8796947 ,\n",
      "       4.20489764, 4.8647991 ]), 'std_fit_time': array([0.04783714, 0.04587215, 0.05395165, 0.01800637, 0.03558002,\n",
      "       0.07456905, 0.31118338, 0.58948247, 0.33237038, 0.18758257,\n",
      "       0.05851777, 0.07835422, 0.02148677, 0.18268175, 0.05334388,\n",
      "       0.23464016, 0.0441666 , 0.08803076, 0.09177142, 0.05548271,\n",
      "       0.00538328, 0.07441104, 0.02509618, 0.03108945, 0.09057104,\n",
      "       0.09334358, 0.14721929]), 'mean_test_time': array([0.21379566, 0.21155961, 0.21105393, 0.22585098, 0.20072516,\n",
      "       0.19814237, 0.23412244, 0.24994357, 0.25232768, 0.2324996 ,\n",
      "       0.18478608, 0.18273584, 0.19423032, 0.1859947 , 0.17969728,\n",
      "       0.19465073, 0.18015703, 0.17219162, 0.16910036, 0.17432372,\n",
      "       0.18181364, 0.19493167, 0.17060216, 0.17350801, 0.18632929,\n",
      "       0.17132227, 0.17831731]), 'std_test_time': array([0.03464375, 0.03953595, 0.03498175, 0.00644178, 0.03052575,\n",
      "       0.03172498, 0.02714275, 0.07047372, 0.09513439, 0.02586377,\n",
      "       0.0310533 , 0.02451319, 0.03295242, 0.03785788, 0.03587045,\n",
      "       0.00408319, 0.02348362, 0.02502734, 0.03124689, 0.02938182,\n",
      "       0.03487684, 0.00763107, 0.03395099, 0.03095094, 0.04265854,\n",
      "       0.03182118, 0.03247977]), 'params': [{'n_epochs': 20, 'n_cltr_u': 5, 'n_cltr_i': 5}, {'n_epochs': 20, 'n_cltr_u': 5, 'n_cltr_i': 10}, {'n_epochs': 20, 'n_cltr_u': 5, 'n_cltr_i': 15}, {'n_epochs': 20, 'n_cltr_u': 10, 'n_cltr_i': 5}, {'n_epochs': 20, 'n_cltr_u': 10, 'n_cltr_i': 10}, {'n_epochs': 20, 'n_cltr_u': 10, 'n_cltr_i': 15}, {'n_epochs': 20, 'n_cltr_u': 20, 'n_cltr_i': 5}, {'n_epochs': 20, 'n_cltr_u': 20, 'n_cltr_i': 10}, {'n_epochs': 20, 'n_cltr_u': 20, 'n_cltr_i': 15}, {'n_epochs': 25, 'n_cltr_u': 5, 'n_cltr_i': 5}, {'n_epochs': 25, 'n_cltr_u': 5, 'n_cltr_i': 10}, {'n_epochs': 25, 'n_cltr_u': 5, 'n_cltr_i': 15}, {'n_epochs': 25, 'n_cltr_u': 10, 'n_cltr_i': 5}, {'n_epochs': 25, 'n_cltr_u': 10, 'n_cltr_i': 10}, {'n_epochs': 25, 'n_cltr_u': 10, 'n_cltr_i': 15}, {'n_epochs': 25, 'n_cltr_u': 20, 'n_cltr_i': 5}, {'n_epochs': 25, 'n_cltr_u': 20, 'n_cltr_i': 10}, {'n_epochs': 25, 'n_cltr_u': 20, 'n_cltr_i': 15}, {'n_epochs': 30, 'n_cltr_u': 5, 'n_cltr_i': 5}, {'n_epochs': 30, 'n_cltr_u': 5, 'n_cltr_i': 10}, {'n_epochs': 30, 'n_cltr_u': 5, 'n_cltr_i': 15}, {'n_epochs': 30, 'n_cltr_u': 10, 'n_cltr_i': 5}, {'n_epochs': 30, 'n_cltr_u': 10, 'n_cltr_i': 10}, {'n_epochs': 30, 'n_cltr_u': 10, 'n_cltr_i': 15}, {'n_epochs': 30, 'n_cltr_u': 20, 'n_cltr_i': 5}, {'n_epochs': 30, 'n_cltr_u': 20, 'n_cltr_i': 10}, {'n_epochs': 30, 'n_cltr_u': 20, 'n_cltr_i': 15}], 'param_n_epochs': [20, 20, 20, 20, 20, 20, 20, 20, 20, 25, 25, 25, 25, 25, 25, 25, 25, 25, 30, 30, 30, 30, 30, 30, 30, 30, 30], 'param_n_cltr_u': [5, 5, 5, 10, 10, 10, 20, 20, 20, 5, 5, 5, 10, 10, 10, 20, 20, 20, 5, 5, 5, 10, 10, 10, 20, 20, 20], 'param_n_cltr_i': [5, 10, 15, 5, 10, 15, 5, 10, 15, 5, 10, 15, 5, 10, 15, 5, 10, 15, 5, 10, 15, 5, 10, 15, 5, 10, 15]}\n"
     ]
    }
   ],
   "source": [
    "param_grid = {'n_epochs': [20, 25, 30], 'n_cltr_u': [5, 10, 20], 'n_cltr_i': [5, 10, 15]}\n",
    "gsCC = GridSearchCV(CoClustering, param_grid, measures=['rmse'], cv=3)\n",
    "\n",
    "gsCC.fit(data)\n",
    "\n",
    "print(gsCC.best_score['rmse'])\n",
    "print(gsCC.best_params['rmse'])\n",
    "print(gsCC.cv_results)"
   ]
  },
  {
   "cell_type": "code",
   "execution_count": 7,
   "metadata": {},
   "outputs": [
    {
     "name": "stderr",
     "output_type": "stream",
     "text": [
      "<ipython-input-7-f236c642ebb3>:2: DeprecationWarning:\n",
      "\n",
      "`np.int` is a deprecated alias for the builtin `int`. To silence this warning, use `int` by itself. Doing this will not modify any behavior and is safe. When replacing `np.int`, you may wish to use e.g. `np.int64` or `np.int32` to specify the precision. If you wish to review your current use, check the release note link for additional information.\n",
      "Deprecated in NumPy 1.20; for more details and guidance: https://numpy.org/devdocs/release/1.20.0-notes.html#deprecations\n",
      "\n"
     ]
    },
    {
     "data": {
      "text/plain": [
       "<surprise.prediction_algorithms.co_clustering.CoClustering at 0x10fede1f0>"
      ]
     },
     "execution_count": 7,
     "metadata": {},
     "output_type": "execute_result"
    }
   ],
   "source": [
    "cc = CoClustering(**gsCC.best_params['rmse'])\n",
    "cc.fit(data.build_full_trainset())\n"
   ]
  },
  {
   "cell_type": "code",
   "execution_count": 9,
   "metadata": {},
   "outputs": [
    {
     "name": "stdout",
     "output_type": "stream",
     "text": [
      "Computing the msd similarity matrix...\n",
      "Done computing similarity matrix.\n",
      "Computing the msd similarity matrix...\n",
      "Done computing similarity matrix.\n",
      "Computing the msd similarity matrix...\n",
      "Done computing similarity matrix.\n",
      "Computing the msd similarity matrix...\n",
      "Done computing similarity matrix.\n",
      "Computing the msd similarity matrix...\n",
      "Done computing similarity matrix.\n",
      "Computing the msd similarity matrix...\n",
      "Done computing similarity matrix.\n",
      "Computing the msd similarity matrix...\n",
      "Done computing similarity matrix.\n",
      "Computing the msd similarity matrix...\n",
      "Done computing similarity matrix.\n",
      "Computing the msd similarity matrix...\n",
      "Done computing similarity matrix.\n",
      "Computing the msd similarity matrix...\n",
      "Done computing similarity matrix.\n",
      "Computing the msd similarity matrix...\n",
      "Done computing similarity matrix.\n",
      "Computing the msd similarity matrix...\n",
      "Done computing similarity matrix.\n",
      "Computing the msd similarity matrix...\n",
      "Done computing similarity matrix.\n",
      "Computing the msd similarity matrix...\n",
      "Done computing similarity matrix.\n",
      "Computing the msd similarity matrix...\n",
      "Done computing similarity matrix.\n",
      "Computing the msd similarity matrix...\n",
      "Done computing similarity matrix.\n",
      "Computing the msd similarity matrix...\n",
      "Done computing similarity matrix.\n",
      "Computing the msd similarity matrix...\n",
      "Done computing similarity matrix.\n",
      "Computing the msd similarity matrix...\n",
      "Done computing similarity matrix.\n",
      "Computing the msd similarity matrix...\n",
      "Done computing similarity matrix.\n",
      "Computing the msd similarity matrix...\n",
      "Done computing similarity matrix.\n",
      "Computing the msd similarity matrix...\n",
      "Done computing similarity matrix.\n",
      "Computing the msd similarity matrix...\n",
      "Done computing similarity matrix.\n",
      "Computing the msd similarity matrix...\n",
      "Done computing similarity matrix.\n",
      "Computing the msd similarity matrix...\n",
      "Done computing similarity matrix.\n",
      "Computing the msd similarity matrix...\n",
      "Done computing similarity matrix.\n",
      "Computing the msd similarity matrix...\n",
      "Done computing similarity matrix.\n",
      "0.9447383619050855\n",
      "{'k': 20, 'min_k': 2}\n",
      "{'split0_test_rmse': array([0.94485119, 0.93762383, 0.94389216, 0.94787019, 0.94066602,\n",
      "       0.94691421, 0.95019602, 0.94300962, 0.94924238]), 'split1_test_rmse': array([0.95837231, 0.95262927, 0.95604812, 0.96043933, 0.95470872,\n",
      "       0.95812015, 0.96293058, 0.95721489, 0.96061742]), 'split2_test_rmse': array([0.95153686, 0.94396199, 0.94862858, 0.95489155, 0.9473435 ,\n",
      "       0.95199351, 0.95721094, 0.94968132, 0.95431994]), 'mean_test_rmse': array([0.95158679, 0.94473836, 0.94952295, 0.95440036, 0.94757275,\n",
      "       0.95234262, 0.95677918, 0.94996861, 0.95472658]), 'std_test_rmse': array([0.00552009, 0.0061505 , 0.00500279, 0.00514307, 0.0057352 ,\n",
      "       0.00458146, 0.00520782, 0.00580283, 0.00465273]), 'rank_test_rmse': array([5, 1, 3, 7, 2, 6, 9, 4, 8]), 'mean_fit_time': array([0.06564562, 0.06234535, 0.06251971, 0.06116176, 0.06247727,\n",
      "       0.06276902, 0.0645086 , 0.06111852, 0.06314826]), 'std_fit_time': array([0.00153033, 0.00036298, 0.00106567, 0.00044446, 0.00125278,\n",
      "       0.0027743 , 0.0024944 , 0.00056398, 0.00337672]), 'mean_test_time': array([1.39869499, 1.3359468 , 1.37843084, 1.42597477, 1.45370611,\n",
      "       1.42859403, 1.52468435, 1.4917477 , 1.526769  ]), 'std_test_time': array([0.05471232, 0.05921422, 0.06563022, 0.04743651, 0.05436988,\n",
      "       0.05082683, 0.05665985, 0.05029282, 0.03525341]), 'params': [{'k': 20, 'min_k': 1}, {'k': 20, 'min_k': 2}, {'k': 20, 'min_k': 5}, {'k': 30, 'min_k': 1}, {'k': 30, 'min_k': 2}, {'k': 30, 'min_k': 5}, {'k': 40, 'min_k': 1}, {'k': 40, 'min_k': 2}, {'k': 40, 'min_k': 5}], 'param_k': [20, 20, 20, 30, 30, 30, 40, 40, 40], 'param_min_k': [1, 2, 5, 1, 2, 5, 1, 2, 5]}\n"
     ]
    }
   ],
   "source": [
    "param_grid = {'k': [20, 30, 40],\n",
    "              'min_k': [1, 2, 5]}\n",
    "gsKNN = GridSearchCV(KNNBasic, param_grid, measures=['rmse'], cv=3)\n",
    "\n",
    "gsKNN.fit(data)\n",
    "\n",
    "print(gsKNN.best_score['rmse'])\n",
    "print(gsKNN.best_params['rmse'])\n",
    "print(gsKNN.cv_results)"
   ]
  },
  {
   "cell_type": "code",
   "execution_count": 30,
   "metadata": {},
   "outputs": [
    {
     "name": "stdout",
     "output_type": "stream",
     "text": [
      "Computing the msd similarity matrix...\n",
      "Done computing similarity matrix.\n"
     ]
    },
    {
     "data": {
      "text/plain": [
       "<surprise.prediction_algorithms.knns.KNNBasic at 0x12e78fee0>"
      ]
     },
     "execution_count": 30,
     "metadata": {},
     "output_type": "execute_result"
    }
   ],
   "source": [
    "\n",
    "# data = Dataset.load_builtin('ml-100k')\n",
    "knn = KNNBasic(**gsKNN.best_params['rmse'])\n",
    "knn.fit(data.build_full_trainset())"
   ]
  },
  {
   "cell_type": "code",
   "execution_count": 34,
   "metadata": {},
   "outputs": [
    {
     "name": "stdout",
     "output_type": "stream",
     "text": [
      "Evaluating RMSE, MAE of algorithm SVD on 5 split(s).\n",
      "\n",
      "                  Fold 1  Fold 2  Fold 3  Fold 4  Fold 5  Mean    Std     \n",
      "RMSE (testset)    0.8594  0.8701  0.8587  0.8609  0.8588  0.8616  0.0043  \n",
      "MAE (testset)     0.6628  0.6646  0.6586  0.6605  0.6593  0.6612  0.0022  \n",
      "Fit time          6.70    6.70    6.81    6.85    6.78    6.77    0.06    \n",
      "Test time         0.11    0.51    0.12    0.11    0.11    0.19    0.16    \n",
      "Evaluating RMSE, MAE of algorithm CoClustering on 5 split(s).\n",
      "\n",
      "                  Fold 1  Fold 2  Fold 3  Fold 4  Fold 5  Mean    Std     \n",
      "RMSE (testset)    0.9542  0.9510  0.9507  0.9445  0.9484  0.9497  0.0032  \n",
      "MAE (testset)     0.7379  0.7351  0.7352  0.7306  0.7348  0.7347  0.0023  \n",
      "Fit time          2.18    2.13    2.10    2.13    2.10    2.13    0.03    \n",
      "Test time         0.27    0.08    0.08    0.07    0.27    0.16    0.10    \n",
      "Computing the msd similarity matrix...\n",
      "Done computing similarity matrix.\n",
      "Computing the msd similarity matrix...\n",
      "Done computing similarity matrix.\n",
      "Computing the msd similarity matrix...\n",
      "Done computing similarity matrix.\n",
      "Computing the msd similarity matrix...\n",
      "Done computing similarity matrix.\n",
      "Computing the msd similarity matrix...\n",
      "Done computing similarity matrix.\n",
      "Evaluating RMSE, MAE of algorithm KNNBasic on 5 split(s).\n",
      "\n",
      "                  Fold 1  Fold 2  Fold 3  Fold 4  Fold 5  Mean    Std     \n",
      "RMSE (testset)    0.9312  0.9324  0.9319  0.9364  0.9336  0.9331  0.0018  \n",
      "MAE (testset)     0.7122  0.7136  0.7113  0.7187  0.7147  0.7141  0.0026  \n",
      "Fit time          0.12    0.12    0.12    0.12    0.12    0.12    0.00    \n",
      "Test time         0.97    1.00    0.99    0.99    0.96    0.98    0.01    \n"
     ]
    }
   ],
   "source": [
    "results_svd = cross_validate(svd, data, measures=['RMSE', 'MAE'], cv=5, verbose=True)\n",
    "results_cc = cross_validate(cc, data, measures=['RMSE', 'MAE'], cv=5, verbose=True)\n",
    "results_knn = cross_validate(knn, data, measures=['RMSE', 'MAE'], cv=5, verbose=True)\n"
   ]
  },
  {
   "cell_type": "code",
   "execution_count": 40,
   "metadata": {},
   "outputs": [
    {
     "data": {
      "text/plain": [
       "{'SVD': [0.8588014073596785, 0.6592670999614225],\n",
       " 'CoClustering': [0.9483579758216114, 0.7348340828586255],\n",
       " 'KNNBasic': [0.9336057324482449, 0.7147185915762925]}"
      ]
     },
     "execution_count": 40,
     "metadata": {},
     "output_type": "execute_result"
    }
   ],
   "source": [
    "compare_models = {'SVD': [results_svd['test_rmse'][-1],\n",
    "results_svd['test_mae'][-1]], 'CoClustering': [results_cc['test_rmse'][-1],\n",
    "results_cc['test_mae'][-1]], 'KNNBasic': [results_knn['test_rmse'][-1],\n",
    "results_knn['test_mae'][-1]], }\n",
    "compare_models"
   ]
  },
  {
   "cell_type": "code",
   "execution_count": 42,
   "metadata": {},
   "outputs": [
    {
     "data": {
      "text/html": [
       "<div>\n",
       "<style scoped>\n",
       "    .dataframe tbody tr th:only-of-type {\n",
       "        vertical-align: middle;\n",
       "    }\n",
       "\n",
       "    .dataframe tbody tr th {\n",
       "        vertical-align: top;\n",
       "    }\n",
       "\n",
       "    .dataframe thead th {\n",
       "        text-align: right;\n",
       "    }\n",
       "</style>\n",
       "<table border=\"1\" class=\"dataframe\">\n",
       "  <thead>\n",
       "    <tr style=\"text-align: right;\">\n",
       "      <th></th>\n",
       "      <th>SVD</th>\n",
       "      <th>CoClustering</th>\n",
       "      <th>KNNBasic</th>\n",
       "    </tr>\n",
       "  </thead>\n",
       "  <tbody>\n",
       "    <tr>\n",
       "      <th>RMSE</th>\n",
       "      <td>0.858801</td>\n",
       "      <td>0.948358</td>\n",
       "      <td>0.933606</td>\n",
       "    </tr>\n",
       "    <tr>\n",
       "      <th>MAE</th>\n",
       "      <td>0.659267</td>\n",
       "      <td>0.734834</td>\n",
       "      <td>0.714719</td>\n",
       "    </tr>\n",
       "  </tbody>\n",
       "</table>\n",
       "</div>"
      ],
      "text/plain": [
       "           SVD  CoClustering  KNNBasic\n",
       "RMSE  0.858801      0.948358  0.933606\n",
       "MAE   0.659267      0.734834  0.714719"
      ]
     },
     "execution_count": 42,
     "metadata": {},
     "output_type": "execute_result"
    }
   ],
   "source": [
    "compare_models_df = pd.DataFrame(compare_models, index=['RMSE', 'MAE'])\n",
    "compare_models_df"
   ]
  },
  {
   "cell_type": "code",
   "execution_count": 12,
   "metadata": {},
   "outputs": [],
   "source": [
    "pickle.dump( svd, open( \"model_selected.p\", \"wb\" ) )"
   ]
  }
 ],
 "metadata": {
  "interpreter": {
   "hash": "ac2eaa0ea0ebeafcc7822e65e46aa9d4f966f30b695406963e145ea4a91cd4fc"
  },
  "kernelspec": {
   "display_name": "Python 3.9.5 64-bit ('python@3.9')",
   "name": "python3"
  },
  "language_info": {
   "codemirror_mode": {
    "name": "ipython",
    "version": 3
   },
   "file_extension": ".py",
   "mimetype": "text/x-python",
   "name": "python",
   "nbconvert_exporter": "python",
   "pygments_lexer": "ipython3",
   "version": "3.9.5"
  },
  "orig_nbformat": 4
 },
 "nbformat": 4,
 "nbformat_minor": 2
}